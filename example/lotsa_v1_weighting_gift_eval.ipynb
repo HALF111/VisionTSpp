{
 "cells": [
  {
   "cell_type": "code",
   "execution_count": 1,
   "id": "51be5533-c0e9-4a60-b2f5-c0e7e9f3b7a7",
   "metadata": {},
   "outputs": [
    {
     "name": "stdout",
     "output_type": "stream",
     "text": [
      "LOTSA_V1_PATH = '/data/gift_eval_pretrain'\n",
      "PRETRAIN_GROUP = ['taxi_30min', 'uber_tlc_daily', 'uber_tlc_hourly', 'wiki-rolling_nips', 'london_smart_meters_with_missing', 'wind_farms_with_missing', 'wind_power', 'solar_power', 'oikolab_weather', 'elecdemand', 'covid_mobility', 'kaggle_web_traffic_weekly', 'extended_web_traffic_with_missing', 'm5', 'm1_yearly', 'm1_quarterly', 'monash_m3_yearly', 'monash_m3_quarterly', 'tourism_yearly']\n",
      "TRAIN_TEST_GROUP = {'m1_monthly': None, 'monash_m3_monthly': None, 'monash_m3_other': None, 'nn5_daily_with_missing': None, 'nn5_weekly': 8, 'tourism_monthly': None, 'tourism_quarterly': None, 'cif_2016_6': None, 'cif_2016_12': None, 'traffic_hourly': 168, 'traffic_weekly': 8, 'australian_electricity_demand': 336, 'rideshare_with_missing': 168, 'sunspot_with_missing': 30, 'vehicle_trips_with_missing': 30, 'weather': 30, 'fred_md': 12, 'pedestrian_counts': 24, 'bitcoin_with_missing': 30}\n",
      "MULTI_SAMPLE_DATASETS = ['oikolab_weather', 'kaggle_web_traffic_weekly', 'extended_web_traffic_with_missing', 'm5', 'nn5_daily_with_missing', 'nn5_weekly', 'traffic_hourly', 'traffic_weekly', 'rideshare_with_missing', 'fred_md']\n",
      "LOTSA_V1_PATH = '/data/gift_eval_pretrain'\n",
      "In others: dataset_list = ['BEIJING_SUBWAY_30MIN', 'HZMETRO', 'LOS_LOOP', 'PEMS03', 'PEMS04', 'PEMS07', 'PEMS08', 'PEMS_BAY', 'Q-TRAFFIC', 'SHMETRO']\n",
      "LOTSA_V1_PATH = '/data/gift_eval_pretrain'\n",
      "In others: dataset_list = ['kdd2022', 'godaddy', 'favorita_sales', 'favorita_transactions', 'china_air_quality', 'beijing_air_quality', 'residential_load_power', 'residential_pv_power', 'cdc_fluview_ilinet', 'cdc_fluview_who_nrevss', 'project_tycho']\n"
     ]
    }
   ],
   "source": [
    "import datasets\n",
    "import pyarrow.compute as pc\n",
    "import numpy as np\n",
    "\n",
    "from uni2ts.common.env import env\n",
    "from uni2ts.data.builder.lotsa_v1 import (\n",
    "    Buildings900KDatasetBuilder,\n",
    "    BuildingsBenchDatasetBuilder,\n",
    "    CloudOpsTSFDatasetBuilder,\n",
    "    CMIP6DatasetBuilder,\n",
    "    ERA5DatasetBuilder,\n",
    "    GluonTSDatasetBuilder,\n",
    "    LargeSTDatasetBuilder,\n",
    "    LibCityDatasetBuilder,\n",
    "    OthersLOTSADatasetBuilder,\n",
    "    ProEnFoDatasetBuilder,\n",
    "    SubseasonalDatasetBuilder,\n",
    ")"
   ]
  },
  {
   "cell_type": "markdown",
   "id": "b9657d9c-6371-44dc-8e5f-20dc632a2ef7",
   "metadata": {},
   "source": [
    "In this notebook, we will see how to calculate the dataset weighting in the [pre-training dataset config file](../cli/conf/pretrain/data/lotsa_v1_weighted.yaml). We will see how to automatically generate this file to avoid excessive manual labor."
   ]
  },
  {
   "cell_type": "code",
   "execution_count": 2,
   "id": "9738e614-8602-4465-b697-cec676e8b2d0",
   "metadata": {},
   "outputs": [
    {
     "name": "stdout",
     "output_type": "stream",
     "text": [
      "['buildings_900k', 'sceaux', 'borealis', 'ideal', 'bdg-2_panther', 'bdg-2_fox', 'bdg-2_rat', 'bdg-2_bear', 'smart', 'lcl', 'azure_vm_traces_2017', 'borg_cluster_data_2011', 'alibaba_cluster_trace_2018', 'cmip6_1850', 'cmip6_1855', 'cmip6_1860', 'cmip6_1865', 'cmip6_1870', 'cmip6_1875', 'cmip6_1880', 'cmip6_1885', 'cmip6_1890', 'cmip6_1895', 'cmip6_1900', 'cmip6_1905', 'cmip6_1910', 'cmip6_1915', 'cmip6_1920', 'cmip6_1925', 'cmip6_1930', 'cmip6_1935', 'cmip6_1940', 'cmip6_1945', 'cmip6_1950', 'cmip6_1955', 'cmip6_1960', 'cmip6_1965', 'cmip6_1970', 'cmip6_1975', 'cmip6_1980', 'cmip6_1985', 'cmip6_1990', 'cmip6_1995', 'cmip6_2000', 'cmip6_2005', 'cmip6_2010', 'era5_1989', 'era5_1990', 'era5_1991', 'era5_1992', 'era5_1993', 'era5_1994', 'era5_1995', 'era5_1996', 'era5_1997', 'era5_1998', 'era5_1999', 'era5_2000', 'era5_2001', 'era5_2002', 'era5_2003', 'era5_2004', 'era5_2005', 'era5_2006', 'era5_2007', 'era5_2008', 'era5_2009', 'era5_2010', 'era5_2011', 'era5_2012', 'era5_2013', 'era5_2014', 'era5_2015', 'era5_2016', 'era5_2017', 'era5_2018', 'taxi_30min', 'uber_tlc_daily', 'uber_tlc_hourly', 'wiki-rolling_nips', 'london_smart_meters_with_missing', 'wind_farms_with_missing', 'wind_power', 'solar_power', 'oikolab_weather', 'elecdemand', 'covid_mobility', 'kaggle_web_traffic_weekly', 'extended_web_traffic_with_missing', 'm5', 'm1_yearly', 'm1_quarterly', 'monash_m3_yearly', 'monash_m3_quarterly', 'tourism_yearly', 'm1_monthly', 'monash_m3_monthly', 'monash_m3_other', 'nn5_daily_with_missing', 'nn5_weekly', 'tourism_monthly', 'tourism_quarterly', 'cif_2016_6', 'cif_2016_12', 'traffic_hourly', 'traffic_weekly', 'australian_electricity_demand', 'rideshare_with_missing', 'sunspot_with_missing', 'vehicle_trips_with_missing', 'weather', 'fred_md', 'pedestrian_counts', 'bitcoin_with_missing', 'largest_2017', 'largest_2018', 'largest_2019', 'largest_2020', 'largest_2021', 'BEIJING_SUBWAY_30MIN', 'HZMETRO', 'LOS_LOOP', 'PEMS03', 'PEMS04', 'PEMS07', 'PEMS08', 'PEMS_BAY', 'Q-TRAFFIC', 'SHMETRO', 'kdd2022', 'godaddy', 'favorita_sales', 'favorita_transactions', 'china_air_quality', 'beijing_air_quality', 'residential_load_power', 'residential_pv_power', 'cdc_fluview_ilinet', 'cdc_fluview_who_nrevss', 'project_tycho', 'gfc12_load', 'gfc14_load', 'gfc17_load', 'spain', 'pdb', 'elf', 'bull', 'cockatoo', 'hog', 'covid19_energy', 'subseasonal', 'subseasonal_precip']\n"
     ]
    }
   ],
   "source": [
    "dataset_list = (\n",
    "    Buildings900KDatasetBuilder.dataset_list\n",
    "    + BuildingsBenchDatasetBuilder.dataset_list\n",
    "    + CloudOpsTSFDatasetBuilder.dataset_list\n",
    "    + CMIP6DatasetBuilder.dataset_list\n",
    "    + ERA5DatasetBuilder.dataset_list\n",
    "    + GluonTSDatasetBuilder.dataset_list\n",
    "    + LargeSTDatasetBuilder.dataset_list\n",
    "    + LibCityDatasetBuilder.dataset_list\n",
    "    + OthersLOTSADatasetBuilder.dataset_list\n",
    "    + ProEnFoDatasetBuilder.dataset_list\n",
    "    + SubseasonalDatasetBuilder.dataset_list\n",
    ")\n",
    "\n",
    "print(dataset_list)"
   ]
  },
  {
   "cell_type": "markdown",
   "id": "d2694e49-c24a-421b-95c8-f52797f9dceb",
   "metadata": {},
   "source": [
    "1. Obtain the lengths of all time series from all available datasets."
   ]
  },
  {
   "cell_type": "code",
   "execution_count": null,
   "id": "22558fc9-ad7e-415e-a796-98da6faa6d4c",
   "metadata": {
    "scrolled": true
   },
   "outputs": [
    {
     "data": {
      "application/vnd.jupyter.widget-view+json": {
       "model_id": "7fd4650808b14dcc9570380b76f5b093",
       "version_major": 2,
       "version_minor": 0
      },
      "text/plain": [
       "Loading dataset from disk:   0%|          | 0/127 [00:00<?, ?it/s]"
      ]
     },
     "metadata": {},
     "output_type": "display_data"
    },
    {
     "data": {
      "application/vnd.jupyter.widget-view+json": {
       "model_id": "3122394b5bda43ed8a2caa02097293ed",
       "version_major": 2,
       "version_minor": 0
      },
      "text/plain": [
       "Loading dataset from disk:   0%|          | 0/22 [00:00<?, ?it/s]"
      ]
     },
     "metadata": {},
     "output_type": "display_data"
    },
    {
     "data": {
      "application/vnd.jupyter.widget-view+json": {
       "model_id": "ed8fa8074c834dcea8d49ac6fea1d8ec",
       "version_major": 2,
       "version_minor": 0
      },
      "text/plain": [
       "Loading dataset from disk:   0%|          | 0/31 [00:00<?, ?it/s]"
      ]
     },
     "metadata": {},
     "output_type": "display_data"
    },
    {
     "data": {
      "application/vnd.jupyter.widget-view+json": {
       "model_id": "3f4e8efac09347ddbfc12f46ef4aa6c0",
       "version_major": 2,
       "version_minor": 0
      },
      "text/plain": [
       "Loading dataset from disk:   0%|          | 0/96 [00:00<?, ?it/s]"
      ]
     },
     "metadata": {},
     "output_type": "display_data"
    },
    {
     "data": {
      "application/vnd.jupyter.widget-view+json": {
       "model_id": "acbdcdbd79cf4dc496c2ff24dd704b1e",
       "version_major": 2,
       "version_minor": 0
      },
      "text/plain": [
       "Loading dataset from disk:   0%|          | 0/96 [00:00<?, ?it/s]"
      ]
     },
     "metadata": {},
     "output_type": "display_data"
    },
    {
     "data": {
      "application/vnd.jupyter.widget-view+json": {
       "model_id": "d7fdb775ae6c4ac6b427f59358b23278",
       "version_major": 2,
       "version_minor": 0
      },
      "text/plain": [
       "Loading dataset from disk:   0%|          | 0/96 [00:00<?, ?it/s]"
      ]
     },
     "metadata": {},
     "output_type": "display_data"
    },
    {
     "data": {
      "application/vnd.jupyter.widget-view+json": {
       "model_id": "2ed7333679ff438599c96644d9f7bf55",
       "version_major": 2,
       "version_minor": 0
      },
      "text/plain": [
       "Loading dataset from disk:   0%|          | 0/96 [00:00<?, ?it/s]"
      ]
     },
     "metadata": {},
     "output_type": "display_data"
    },
    {
     "data": {
      "application/vnd.jupyter.widget-view+json": {
       "model_id": "a31a0bbc3c604c61afd7e96f775c0c37",
       "version_major": 2,
       "version_minor": 0
      },
      "text/plain": [
       "Loading dataset from disk:   0%|          | 0/96 [00:00<?, ?it/s]"
      ]
     },
     "metadata": {},
     "output_type": "display_data"
    },
    {
     "data": {
      "application/vnd.jupyter.widget-view+json": {
       "model_id": "1b78962ec7764fbcaa3b1114c35c1a1c",
       "version_major": 2,
       "version_minor": 0
      },
      "text/plain": [
       "Loading dataset from disk:   0%|          | 0/96 [00:00<?, ?it/s]"
      ]
     },
     "metadata": {},
     "output_type": "display_data"
    },
    {
     "data": {
      "application/vnd.jupyter.widget-view+json": {
       "model_id": "8b36c1a4bccc4872abc5f5c246efbc81",
       "version_major": 2,
       "version_minor": 0
      },
      "text/plain": [
       "Loading dataset from disk:   0%|          | 0/96 [00:00<?, ?it/s]"
      ]
     },
     "metadata": {},
     "output_type": "display_data"
    },
    {
     "data": {
      "application/vnd.jupyter.widget-view+json": {
       "model_id": "15fd1b088d7d434db3263e995c39ba74",
       "version_major": 2,
       "version_minor": 0
      },
      "text/plain": [
       "Loading dataset from disk:   0%|          | 0/96 [00:00<?, ?it/s]"
      ]
     },
     "metadata": {},
     "output_type": "display_data"
    },
    {
     "data": {
      "application/vnd.jupyter.widget-view+json": {
       "model_id": "1a1d31bfaf9a4ed38271312ee853f29d",
       "version_major": 2,
       "version_minor": 0
      },
      "text/plain": [
       "Loading dataset from disk:   0%|          | 0/96 [00:00<?, ?it/s]"
      ]
     },
     "metadata": {},
     "output_type": "display_data"
    },
    {
     "data": {
      "application/vnd.jupyter.widget-view+json": {
       "model_id": "e780ad21f00e45e8ab22c613a40f9a3d",
       "version_major": 2,
       "version_minor": 0
      },
      "text/plain": [
       "Loading dataset from disk:   0%|          | 0/96 [00:00<?, ?it/s]"
      ]
     },
     "metadata": {},
     "output_type": "display_data"
    },
    {
     "data": {
      "application/vnd.jupyter.widget-view+json": {
       "model_id": "dabe1d56819b4b4eae24306c0141c06a",
       "version_major": 2,
       "version_minor": 0
      },
      "text/plain": [
       "Loading dataset from disk:   0%|          | 0/96 [00:00<?, ?it/s]"
      ]
     },
     "metadata": {},
     "output_type": "display_data"
    },
    {
     "data": {
      "application/vnd.jupyter.widget-view+json": {
       "model_id": "99800ccc5d034d37877ea6f2a3d20551",
       "version_major": 2,
       "version_minor": 0
      },
      "text/plain": [
       "Loading dataset from disk:   0%|          | 0/96 [00:00<?, ?it/s]"
      ]
     },
     "metadata": {},
     "output_type": "display_data"
    },
    {
     "data": {
      "application/vnd.jupyter.widget-view+json": {
       "model_id": "d7816c21ee854112a577295c22de30bf",
       "version_major": 2,
       "version_minor": 0
      },
      "text/plain": [
       "Loading dataset from disk:   0%|          | 0/96 [00:00<?, ?it/s]"
      ]
     },
     "metadata": {},
     "output_type": "display_data"
    },
    {
     "data": {
      "application/vnd.jupyter.widget-view+json": {
       "model_id": "fe8b0d610ae54578bf874351531b6c0b",
       "version_major": 2,
       "version_minor": 0
      },
      "text/plain": [
       "Loading dataset from disk:   0%|          | 0/96 [00:00<?, ?it/s]"
      ]
     },
     "metadata": {},
     "output_type": "display_data"
    },
    {
     "data": {
      "application/vnd.jupyter.widget-view+json": {
       "model_id": "1c78be32209e452587aea70e28207cd1",
       "version_major": 2,
       "version_minor": 0
      },
      "text/plain": [
       "Loading dataset from disk:   0%|          | 0/96 [00:00<?, ?it/s]"
      ]
     },
     "metadata": {},
     "output_type": "display_data"
    },
    {
     "data": {
      "application/vnd.jupyter.widget-view+json": {
       "model_id": "8b82c35b4ff743699c9acdb59b21b262",
       "version_major": 2,
       "version_minor": 0
      },
      "text/plain": [
       "Loading dataset from disk:   0%|          | 0/96 [00:00<?, ?it/s]"
      ]
     },
     "metadata": {},
     "output_type": "display_data"
    },
    {
     "data": {
      "application/vnd.jupyter.widget-view+json": {
       "model_id": "43061abaf25246309c1bb1dda39cc25b",
       "version_major": 2,
       "version_minor": 0
      },
      "text/plain": [
       "Loading dataset from disk:   0%|          | 0/96 [00:00<?, ?it/s]"
      ]
     },
     "metadata": {},
     "output_type": "display_data"
    },
    {
     "data": {
      "application/vnd.jupyter.widget-view+json": {
       "model_id": "29c6d7ef561643a2889c045bd69d361a",
       "version_major": 2,
       "version_minor": 0
      },
      "text/plain": [
       "Loading dataset from disk:   0%|          | 0/96 [00:00<?, ?it/s]"
      ]
     },
     "metadata": {},
     "output_type": "display_data"
    },
    {
     "data": {
      "application/vnd.jupyter.widget-view+json": {
       "model_id": "5bf1f52f10e24715ae3653a061a2a642",
       "version_major": 2,
       "version_minor": 0
      },
      "text/plain": [
       "Loading dataset from disk:   0%|          | 0/96 [00:00<?, ?it/s]"
      ]
     },
     "metadata": {},
     "output_type": "display_data"
    },
    {
     "data": {
      "application/vnd.jupyter.widget-view+json": {
       "model_id": "cf8eda41734044a98108823a398215df",
       "version_major": 2,
       "version_minor": 0
      },
      "text/plain": [
       "Loading dataset from disk:   0%|          | 0/96 [00:00<?, ?it/s]"
      ]
     },
     "metadata": {},
     "output_type": "display_data"
    },
    {
     "data": {
      "application/vnd.jupyter.widget-view+json": {
       "model_id": "3d5b111c06f24ffea10a3f6fa01c8cde",
       "version_major": 2,
       "version_minor": 0
      },
      "text/plain": [
       "Loading dataset from disk:   0%|          | 0/96 [00:00<?, ?it/s]"
      ]
     },
     "metadata": {},
     "output_type": "display_data"
    },
    {
     "data": {
      "application/vnd.jupyter.widget-view+json": {
       "model_id": "cc0dafccd86840caa0bbb1dc40b9efb9",
       "version_major": 2,
       "version_minor": 0
      },
      "text/plain": [
       "Loading dataset from disk:   0%|          | 0/96 [00:00<?, ?it/s]"
      ]
     },
     "metadata": {},
     "output_type": "display_data"
    },
    {
     "data": {
      "application/vnd.jupyter.widget-view+json": {
       "model_id": "1affdf1c74534bb58ea5a1dc6c30b967",
       "version_major": 2,
       "version_minor": 0
      },
      "text/plain": [
       "Loading dataset from disk:   0%|          | 0/96 [00:00<?, ?it/s]"
      ]
     },
     "metadata": {},
     "output_type": "display_data"
    },
    {
     "data": {
      "application/vnd.jupyter.widget-view+json": {
       "model_id": "4fa7a62463cb4d01b685d55469d76f21",
       "version_major": 2,
       "version_minor": 0
      },
      "text/plain": [
       "Loading dataset from disk:   0%|          | 0/96 [00:00<?, ?it/s]"
      ]
     },
     "metadata": {},
     "output_type": "display_data"
    },
    {
     "data": {
      "application/vnd.jupyter.widget-view+json": {
       "model_id": "10ac59e5a9e240b19854b559234d76dc",
       "version_major": 2,
       "version_minor": 0
      },
      "text/plain": [
       "Loading dataset from disk:   0%|          | 0/96 [00:00<?, ?it/s]"
      ]
     },
     "metadata": {},
     "output_type": "display_data"
    },
    {
     "data": {
      "application/vnd.jupyter.widget-view+json": {
       "model_id": "ecbcb68a20fe47b891aec8d1afd6d375",
       "version_major": 2,
       "version_minor": 0
      },
      "text/plain": [
       "Loading dataset from disk:   0%|          | 0/96 [00:00<?, ?it/s]"
      ]
     },
     "metadata": {},
     "output_type": "display_data"
    },
    {
     "data": {
      "application/vnd.jupyter.widget-view+json": {
       "model_id": "adebe92d3b014e229853aa99fbb90ce7",
       "version_major": 2,
       "version_minor": 0
      },
      "text/plain": [
       "Loading dataset from disk:   0%|          | 0/96 [00:00<?, ?it/s]"
      ]
     },
     "metadata": {},
     "output_type": "display_data"
    },
    {
     "data": {
      "application/vnd.jupyter.widget-view+json": {
       "model_id": "da86b29ee5724a32809e037d3d2d88d1",
       "version_major": 2,
       "version_minor": 0
      },
      "text/plain": [
       "Loading dataset from disk:   0%|          | 0/96 [00:00<?, ?it/s]"
      ]
     },
     "metadata": {},
     "output_type": "display_data"
    },
    {
     "data": {
      "application/vnd.jupyter.widget-view+json": {
       "model_id": "4e650528130e4202bdd50bfb78dc2786",
       "version_major": 2,
       "version_minor": 0
      },
      "text/plain": [
       "Loading dataset from disk:   0%|          | 0/96 [00:00<?, ?it/s]"
      ]
     },
     "metadata": {},
     "output_type": "display_data"
    },
    {
     "data": {
      "application/vnd.jupyter.widget-view+json": {
       "model_id": "8f6d4ea4304c4d33a8f0f0d422aa69fb",
       "version_major": 2,
       "version_minor": 0
      },
      "text/plain": [
       "Loading dataset from disk:   0%|          | 0/96 [00:00<?, ?it/s]"
      ]
     },
     "metadata": {},
     "output_type": "display_data"
    },
    {
     "data": {
      "application/vnd.jupyter.widget-view+json": {
       "model_id": "d4d61787f2f84000a935ff362705eb66",
       "version_major": 2,
       "version_minor": 0
      },
      "text/plain": [
       "Loading dataset from disk:   0%|          | 0/96 [00:00<?, ?it/s]"
      ]
     },
     "metadata": {},
     "output_type": "display_data"
    },
    {
     "data": {
      "application/vnd.jupyter.widget-view+json": {
       "model_id": "e7f511830b054b75812b7c73b0fb36de",
       "version_major": 2,
       "version_minor": 0
      },
      "text/plain": [
       "Loading dataset from disk:   0%|          | 0/96 [00:00<?, ?it/s]"
      ]
     },
     "metadata": {},
     "output_type": "display_data"
    },
    {
     "data": {
      "application/vnd.jupyter.widget-view+json": {
       "model_id": "74cb9e9bca8741ebae05031e2ee63ef9",
       "version_major": 2,
       "version_minor": 0
      },
      "text/plain": [
       "Loading dataset from disk:   0%|          | 0/96 [00:00<?, ?it/s]"
      ]
     },
     "metadata": {},
     "output_type": "display_data"
    },
    {
     "data": {
      "application/vnd.jupyter.widget-view+json": {
       "model_id": "b77f24b2d88c441ba7c995e1f3546984",
       "version_major": 2,
       "version_minor": 0
      },
      "text/plain": [
       "Loading dataset from disk:   0%|          | 0/96 [00:00<?, ?it/s]"
      ]
     },
     "metadata": {},
     "output_type": "display_data"
    },
    {
     "data": {
      "application/vnd.jupyter.widget-view+json": {
       "model_id": "5eb792537f31402097d86b1d76c1b134",
       "version_major": 2,
       "version_minor": 0
      },
      "text/plain": [
       "Loading dataset from disk:   0%|          | 0/96 [00:00<?, ?it/s]"
      ]
     },
     "metadata": {},
     "output_type": "display_data"
    },
    {
     "data": {
      "application/vnd.jupyter.widget-view+json": {
       "model_id": "7999b72370cc42dabc3bc1d2f69943d9",
       "version_major": 2,
       "version_minor": 0
      },
      "text/plain": [
       "Loading dataset from disk:   0%|          | 0/96 [00:00<?, ?it/s]"
      ]
     },
     "metadata": {},
     "output_type": "display_data"
    },
    {
     "data": {
      "application/vnd.jupyter.widget-view+json": {
       "model_id": "8f782fb104b34a7fa68bd5d6c94d8af4",
       "version_major": 2,
       "version_minor": 0
      },
      "text/plain": [
       "Loading dataset from disk:   0%|          | 0/96 [00:00<?, ?it/s]"
      ]
     },
     "metadata": {},
     "output_type": "display_data"
    },
    {
     "data": {
      "application/vnd.jupyter.widget-view+json": {
       "model_id": "d19ff82a475f4b11b1114b84e358af55",
       "version_major": 2,
       "version_minor": 0
      },
      "text/plain": [
       "Loading dataset from disk:   0%|          | 0/96 [00:00<?, ?it/s]"
      ]
     },
     "metadata": {},
     "output_type": "display_data"
    },
    {
     "data": {
      "application/vnd.jupyter.widget-view+json": {
       "model_id": "c816cb7e67b749e0ae81809ee89cba4e",
       "version_major": 2,
       "version_minor": 0
      },
      "text/plain": [
       "Loading dataset from disk:   0%|          | 0/96 [00:00<?, ?it/s]"
      ]
     },
     "metadata": {},
     "output_type": "display_data"
    },
    {
     "data": {
      "application/vnd.jupyter.widget-view+json": {
       "model_id": "2be42b3f1c7741d3b4f6444f8c43547d",
       "version_major": 2,
       "version_minor": 0
      },
      "text/plain": [
       "Loading dataset from disk:   0%|          | 0/96 [00:00<?, ?it/s]"
      ]
     },
     "metadata": {},
     "output_type": "display_data"
    },
    {
     "data": {
      "application/vnd.jupyter.widget-view+json": {
       "model_id": "cca38dbae156423aa55ba2d182a92ab8",
       "version_major": 2,
       "version_minor": 0
      },
      "text/plain": [
       "Loading dataset from disk:   0%|          | 0/96 [00:00<?, ?it/s]"
      ]
     },
     "metadata": {},
     "output_type": "display_data"
    },
    {
     "data": {
      "application/vnd.jupyter.widget-view+json": {
       "model_id": "45130dae96b04a84b709d938a567620a",
       "version_major": 2,
       "version_minor": 0
      },
      "text/plain": [
       "Loading dataset from disk:   0%|          | 0/96 [00:00<?, ?it/s]"
      ]
     },
     "metadata": {},
     "output_type": "display_data"
    },
    {
     "data": {
      "application/vnd.jupyter.widget-view+json": {
       "model_id": "4e824664b0714e8babd68618f938e4e3",
       "version_major": 2,
       "version_minor": 0
      },
      "text/plain": [
       "Loading dataset from disk:   0%|          | 0/96 [00:00<?, ?it/s]"
      ]
     },
     "metadata": {},
     "output_type": "display_data"
    },
    {
     "data": {
      "application/vnd.jupyter.widget-view+json": {
       "model_id": "681e42bcd7ec4a17bc353182935f1394",
       "version_major": 2,
       "version_minor": 0
      },
      "text/plain": [
       "Loading dataset from disk:   0%|          | 0/96 [00:00<?, ?it/s]"
      ]
     },
     "metadata": {},
     "output_type": "display_data"
    },
    {
     "data": {
      "application/vnd.jupyter.widget-view+json": {
       "model_id": "5fd8e03836564a149fff3b47e013db9f",
       "version_major": 2,
       "version_minor": 0
      },
      "text/plain": [
       "Loading dataset from disk:   0%|          | 0/96 [00:00<?, ?it/s]"
      ]
     },
     "metadata": {},
     "output_type": "display_data"
    },
    {
     "data": {
      "application/vnd.jupyter.widget-view+json": {
       "model_id": "1a02046723d246cba65b60e9adaaa1ce",
       "version_major": 2,
       "version_minor": 0
      },
      "text/plain": [
       "Loading dataset from disk:   0%|          | 0/96 [00:00<?, ?it/s]"
      ]
     },
     "metadata": {},
     "output_type": "display_data"
    },
    {
     "data": {
      "application/vnd.jupyter.widget-view+json": {
       "model_id": "cb1151468f64451e894a394b585bd6d7",
       "version_major": 2,
       "version_minor": 0
      },
      "text/plain": [
       "Loading dataset from disk:   0%|          | 0/96 [00:00<?, ?it/s]"
      ]
     },
     "metadata": {},
     "output_type": "display_data"
    },
    {
     "data": {
      "application/vnd.jupyter.widget-view+json": {
       "model_id": "a66890550ac24ac4bf78e7dd206cc234",
       "version_major": 2,
       "version_minor": 0
      },
      "text/plain": [
       "Loading dataset from disk:   0%|          | 0/96 [00:00<?, ?it/s]"
      ]
     },
     "metadata": {},
     "output_type": "display_data"
    },
    {
     "data": {
      "application/vnd.jupyter.widget-view+json": {
       "model_id": "4cb6cde6a4314088b15d20a9e8be5f2a",
       "version_major": 2,
       "version_minor": 0
      },
      "text/plain": [
       "Loading dataset from disk:   0%|          | 0/96 [00:00<?, ?it/s]"
      ]
     },
     "metadata": {},
     "output_type": "display_data"
    },
    {
     "data": {
      "application/vnd.jupyter.widget-view+json": {
       "model_id": "4caaa9fbab814da4b201c0fb011b3e57",
       "version_major": 2,
       "version_minor": 0
      },
      "text/plain": [
       "Loading dataset from disk:   0%|          | 0/96 [00:00<?, ?it/s]"
      ]
     },
     "metadata": {},
     "output_type": "display_data"
    },
    {
     "data": {
      "application/vnd.jupyter.widget-view+json": {
       "model_id": "eb2d67f237da4c23b3b6e71c0e231846",
       "version_major": 2,
       "version_minor": 0
      },
      "text/plain": [
       "Loading dataset from disk:   0%|          | 0/96 [00:00<?, ?it/s]"
      ]
     },
     "metadata": {},
     "output_type": "display_data"
    },
    {
     "data": {
      "application/vnd.jupyter.widget-view+json": {
       "model_id": "7d55ab7b68da4c9abd35249b1ac88dbb",
       "version_major": 2,
       "version_minor": 0
      },
      "text/plain": [
       "Loading dataset from disk:   0%|          | 0/96 [00:00<?, ?it/s]"
      ]
     },
     "metadata": {},
     "output_type": "display_data"
    },
    {
     "data": {
      "application/vnd.jupyter.widget-view+json": {
       "model_id": "5aa992ce524c40d28bbae5aff1ddd345",
       "version_major": 2,
       "version_minor": 0
      },
      "text/plain": [
       "Loading dataset from disk:   0%|          | 0/96 [00:00<?, ?it/s]"
      ]
     },
     "metadata": {},
     "output_type": "display_data"
    },
    {
     "data": {
      "application/vnd.jupyter.widget-view+json": {
       "model_id": "ae6b54e7f35240ec805f459920463a10",
       "version_major": 2,
       "version_minor": 0
      },
      "text/plain": [
       "Loading dataset from disk:   0%|          | 0/96 [00:00<?, ?it/s]"
      ]
     },
     "metadata": {},
     "output_type": "display_data"
    },
    {
     "data": {
      "application/vnd.jupyter.widget-view+json": {
       "model_id": "18fe3316f7e94504b2a08a074ad62162",
       "version_major": 2,
       "version_minor": 0
      },
      "text/plain": [
       "Loading dataset from disk:   0%|          | 0/96 [00:00<?, ?it/s]"
      ]
     },
     "metadata": {},
     "output_type": "display_data"
    },
    {
     "data": {
      "application/vnd.jupyter.widget-view+json": {
       "model_id": "f0d968b362f147c4a3357345e3a34210",
       "version_major": 2,
       "version_minor": 0
      },
      "text/plain": [
       "Loading dataset from disk:   0%|          | 0/96 [00:00<?, ?it/s]"
      ]
     },
     "metadata": {},
     "output_type": "display_data"
    },
    {
     "data": {
      "application/vnd.jupyter.widget-view+json": {
       "model_id": "70f2e4c327bf4460b0084ad508c2eebc",
       "version_major": 2,
       "version_minor": 0
      },
      "text/plain": [
       "Loading dataset from disk:   0%|          | 0/96 [00:00<?, ?it/s]"
      ]
     },
     "metadata": {},
     "output_type": "display_data"
    },
    {
     "data": {
      "application/vnd.jupyter.widget-view+json": {
       "model_id": "ec7b76dad82146299cf3ba71b4766d0b",
       "version_major": 2,
       "version_minor": 0
      },
      "text/plain": [
       "Loading dataset from disk:   0%|          | 0/96 [00:00<?, ?it/s]"
      ]
     },
     "metadata": {},
     "output_type": "display_data"
    },
    {
     "data": {
      "application/vnd.jupyter.widget-view+json": {
       "model_id": "a04a70c2a77043c68d537b826e29e63c",
       "version_major": 2,
       "version_minor": 0
      },
      "text/plain": [
       "Loading dataset from disk:   0%|          | 0/96 [00:00<?, ?it/s]"
      ]
     },
     "metadata": {},
     "output_type": "display_data"
    },
    {
     "data": {
      "application/vnd.jupyter.widget-view+json": {
       "model_id": "7fd3296df15748018c0d89bcd3ac9548",
       "version_major": 2,
       "version_minor": 0
      },
      "text/plain": [
       "Loading dataset from disk:   0%|          | 0/96 [00:00<?, ?it/s]"
      ]
     },
     "metadata": {},
     "output_type": "display_data"
    },
    {
     "data": {
      "application/vnd.jupyter.widget-view+json": {
       "model_id": "2d35fa7e8d6348bb8a1c6ce8e727ad48",
       "version_major": 2,
       "version_minor": 0
      },
      "text/plain": [
       "Loading dataset from disk:   0%|          | 0/96 [00:00<?, ?it/s]"
      ]
     },
     "metadata": {},
     "output_type": "display_data"
    }
   ],
   "source": [
    "lengths = {}\n",
    "for name in dataset_list:\n",
    "    dataset = datasets.load_from_disk(str(env.LOTSA_V1_PATH / name)).with_format(\n",
    "        \"numpy\"\n",
    "    )\n",
    "    if dataset[0][\"target\"].ndim > 1:\n",
    "        lengths[name] = pc.list_value_length(\n",
    "            pc.list_flatten(pc.list_slice(dataset.data.column(\"target\"), 0, 1))\n",
    "        ).to_numpy()\n",
    "    else:\n",
    "        lengths[name] = pc.list_value_length(dataset.data.column(\"target\")).to_numpy()"
   ]
  },
  {
   "cell_type": "markdown",
   "id": "052c4a04-3a94-48c9-bf49-f4ea16f8f83a",
   "metadata": {},
   "source": [
    "2. Some datasets have been split into smaller chunks for efficiency -- group them back together"
   ]
  },
  {
   "cell_type": "code",
   "execution_count": null,
   "id": "5f2ba108-9681-4378-ae35-cf45be25ac8a",
   "metadata": {},
   "outputs": [],
   "source": [
    "def get_dataset_group(name):\n",
    "    if name.startswith(\"era5\"):\n",
    "        return \"era5\"\n",
    "    if name.startswith(\"cmip6\"):\n",
    "        return \"cmip6\"\n",
    "    if name.startswith(\"largest\"):\n",
    "        return \"largest\"\n",
    "    return name\n",
    "\n",
    "\n",
    "group_lengths = {}\n",
    "for k, v in lengths.items():\n",
    "    group = get_dataset_group(k)\n",
    "    if group in group_lengths:\n",
    "        group_lengths[group] = np.concatenate([group_lengths[group], v])\n",
    "    else:\n",
    "        group_lengths[group] = v"
   ]
  },
  {
   "cell_type": "markdown",
   "id": "5f8ae20b-45f3-4527-aa26-22e6c628a2be",
   "metadata": {},
   "source": [
    "3. Compute the weights for each dataset"
   ]
  },
  {
   "cell_type": "markdown",
   "id": "6282f8af-1fbc-400c-a94e-f8d82532bf90",
   "metadata": {},
   "source": [
    "From the [paper](https://arxiv.org/abs/2402.02592), the sampling distribution for dataset $D_k$ is given by:\n",
    "\n",
    "\\begin{align}\n",
    "p(D_k) & = \\frac{\\min(\\omega_k, \\epsilon)}{\\sum_{i=1}^K \\min(\\omega_i, \\epsilon)} \\\\\n",
    "\\\\\n",
    "\\omega_k & = \\frac{|D_k|}{\\sum_i^K |D_i|} \\\\\n",
    "\\\\\n",
    "|D_k| & = \\sum_{i \\in D_k} T_i\n",
    "\\end{align}\n",
    "where $T_i$ for $i \\in D_k$ is the length of time series $i$ belonging to dataset $D_k$.\n",
    "\n",
    "The default PyTorch sampler samples each dataset $D_k$ based on the number of time series in the dataset, i.e. with probability:\n",
    "\n",
    "\\begin{align}\n",
    "\\frac{\\sum_{i \\in D_k} 1}{\\sum_{j=1}^K \\sum_{l \\in D_j} 1}\n",
    "\\end{align}\n",
    "\n",
    "`weight_map` aims to _reweight_ the probability to sample dataset $D_k$ with a multiplier. \n",
    "\n",
    "$\\mathrm{reweight}_k$, which is calculated as follows:\n",
    "\n",
    "\\begin{align}\n",
    "\\mathrm{reweight}_k = \\omega_k * \\frac{\\sum_{j=1}^K \\sum_{l \\in D_j} 1}{\\sum_{i \\in D_k} 1}\n",
    "\\end{align}\n",
    "\n",
    "Thus, the probability to sample dataset $D_k$ is $\\omega_k$."
   ]
  },
  {
   "cell_type": "code",
   "execution_count": null,
   "id": "78b46882-eef9-478a-9004-15670b242ece",
   "metadata": {},
   "outputs": [],
   "source": [
    "# Compute \\omega_k\n",
    "total_lengths = np.asarray([v.sum() for v in group_lengths.values()])\n",
    "omegas = total_lengths / total_lengths.sum()\n",
    "omegas = np.clip(omegas, a_min=0, a_max=0.001)\n",
    "weights = omegas / omegas.sum()"
   ]
  },
  {
   "cell_type": "code",
   "execution_count": null,
   "id": "1867dddb-da26-4c28-b05f-3817d4d30d6c",
   "metadata": {},
   "outputs": [],
   "source": [
    "# Compute reweight_k\n",
    "num_ts = np.asarray([v.shape[0] for v in group_lengths.values()])\n",
    "group_reweights = weights * num_ts.sum() / num_ts\n",
    "group_reweights = {k: v for k, v in zip(group_lengths.keys(), group_reweights)}\n",
    "group_size = {\n",
    "    group: len([k for k in lengths.keys() if get_dataset_group(k) == group])\n",
    "    for group in group_lengths.keys()\n",
    "}\n",
    "reweights = {\n",
    "    k: group_reweights[group] / group_size[group]\n",
    "    for k in lengths.keys()\n",
    "    if (group := get_dataset_group(k))\n",
    "}"
   ]
  },
  {
   "cell_type": "markdown",
   "id": "f4b4d6a5-37c5-4b6a-af8a-3d2309eb3396",
   "metadata": {},
   "source": [
    "4. Finally, we can generate the YAML file required for the pre-training dataset with the appropriate `weight_map`."
   ]
  },
  {
   "cell_type": "code",
   "execution_count": null,
   "id": "305782c4-8602-4f12-8794-7db18a72010a",
   "metadata": {},
   "outputs": [
    {
     "name": "stdout",
     "output_type": "stream",
     "text": [
      "- _target_: uni2ts.data.builder.lotsa_v1.Buildings900KDatasetBuilder\n",
      "  datasets: ${cls_getattr:${._target_},dataset_list}\n",
      "  weight_map:\n",
      "    buildings_900k: 0.07018480580999217\n",
      "  sample_time_series:\n",
      "    _target_: uni2ts.data.dataset.SampleTimeSeriesType\n",
      "    _args_: [\"proportional\"]\n",
      "- _target_: uni2ts.data.builder.lotsa_v1.BuildingsBenchDatasetBuilder\n",
      "  datasets: ${cls_getattr:${._target_},dataset_list}\n",
      "  weight_map:\n",
      "    sceaux: 155.8261547285959\n",
      "    borealis: 25.276350364950382\n",
      "    ideal: 26.338668163517678\n",
      "    bdg-2:panther: 39.88654166561961\n",
      "    bdg-2:fox: 78.40265380227133\n",
      "    bdg-2:rat: 76.88970006484395\n",
      "    bdg-2:bear: 74.16867297587429\n",
      "    smart: 87.15755744919608\n",
      "    lcl: 60.945667283481136\n",
      "  sample_time_series:\n",
      "    _target_: uni2ts.data.dataset.SampleTimeSeriesType\n",
      "    _args_: [\"proportional\"]\n",
      "- _target_: uni2ts.data.builder.lotsa_v1.CloudOpsTSFDatasetBuilder\n",
      "  datasets: ${cls_getattr:${._target_},dataset_list}\n",
      "  weight_map:\n",
      "    azure_vm_traces_2017: 0.7901054338016913\n",
      "    borg_cluster_data_2011: 0.8787447431354757\n",
      "    alibaba_cluster_trace_2018: 2.1571965577089713\n",
      "  sample_time_series:\n",
      "    _target_: uni2ts.data.dataset.SampleTimeSeriesType\n",
      "    _args_: [\"proportional\"]\n",
      "- _target_: uni2ts.data.builder.lotsa_v1.CMIP6DatasetBuilder\n",
      "  datasets: ${cls_getattr:${._target_},dataset_list}\n",
      "  weight_map:\n",
      "    cmip6_1850: 0.014123803479936898\n",
      "    cmip6_1855: 0.014123803479936898\n",
      "    cmip6_1860: 0.014123803479936898\n",
      "    cmip6_1865: 0.014123803479936898\n",
      "    cmip6_1870: 0.014123803479936898\n",
      "    cmip6_1875: 0.014123803479936898\n",
      "    cmip6_1880: 0.014123803479936898\n",
      "    cmip6_1885: 0.014123803479936898\n",
      "    cmip6_1890: 0.014123803479936898\n",
      "    cmip6_1895: 0.014123803479936898\n",
      "    cmip6_1900: 0.014123803479936898\n",
      "    cmip6_1905: 0.014123803479936898\n",
      "    cmip6_1910: 0.014123803479936898\n",
      "    cmip6_1915: 0.014123803479936898\n",
      "    cmip6_1920: 0.014123803479936898\n",
      "    cmip6_1925: 0.014123803479936898\n",
      "    cmip6_1930: 0.014123803479936898\n",
      "    cmip6_1935: 0.014123803479936898\n",
      "    cmip6_1940: 0.014123803479936898\n",
      "    cmip6_1945: 0.014123803479936898\n",
      "    cmip6_1950: 0.014123803479936898\n",
      "    cmip6_1955: 0.014123803479936898\n",
      "    cmip6_1960: 0.014123803479936898\n",
      "    cmip6_1965: 0.014123803479936898\n",
      "    cmip6_1970: 0.014123803479936898\n",
      "    cmip6_1975: 0.014123803479936898\n",
      "    cmip6_1980: 0.014123803479936898\n",
      "    cmip6_1985: 0.014123803479936898\n",
      "    cmip6_1990: 0.014123803479936898\n",
      "    cmip6_1995: 0.014123803479936898\n",
      "    cmip6_2000: 0.014123803479936898\n",
      "    cmip6_2005: 0.014123803479936898\n",
      "    cmip6_2010: 0.014123803479936898\n",
      "  sample_time_series:\n",
      "    _target_: uni2ts.data.dataset.SampleTimeSeriesType\n",
      "    _args_: [\"proportional\"]\n",
      "- _target_: uni2ts.data.builder.lotsa_v1.ERA5DatasetBuilder\n",
      "  datasets: ${cls_getattr:${._target_},dataset_list}\n",
      "  weight_map:\n",
      "    era5_1989: 0.017089802210723648\n",
      "    era5_1990: 0.017089802210723648\n",
      "    era5_1991: 0.017089802210723648\n",
      "    era5_1992: 0.017089802210723648\n",
      "    era5_1993: 0.017089802210723648\n",
      "    era5_1994: 0.017089802210723648\n",
      "    era5_1995: 0.017089802210723648\n",
      "    era5_1996: 0.017089802210723648\n",
      "    era5_1997: 0.017089802210723648\n",
      "    era5_1998: 0.017089802210723648\n",
      "    era5_1999: 0.017089802210723648\n",
      "    era5_2000: 0.017089802210723648\n",
      "    era5_2001: 0.017089802210723648\n",
      "    era5_2002: 0.017089802210723648\n",
      "    era5_2003: 0.017089802210723648\n",
      "    era5_2004: 0.017089802210723648\n",
      "    era5_2005: 0.017089802210723648\n",
      "    era5_2006: 0.017089802210723648\n",
      "    era5_2007: 0.017089802210723648\n",
      "    era5_2008: 0.017089802210723648\n",
      "    era5_2009: 0.017089802210723648\n",
      "    era5_2010: 0.017089802210723648\n",
      "    era5_2011: 0.017089802210723648\n",
      "    era5_2012: 0.017089802210723648\n",
      "    era5_2013: 0.017089802210723648\n",
      "    era5_2014: 0.017089802210723648\n",
      "    era5_2015: 0.017089802210723648\n",
      "    era5_2016: 0.017089802210723648\n",
      "    era5_2017: 0.017089802210723648\n",
      "    era5_2018: 0.017089802210723648\n",
      "  sample_time_series:\n",
      "    _target_: uni2ts.data.dataset.SampleTimeSeriesType\n",
      "    _args_: [\"proportional\"]\n",
      "- _target_: uni2ts.data.builder.lotsa_v1.GluonTSDatasetBuilder\n",
      "  datasets: ${cls_getattr:${._target_},dataset_list}\n",
      "  weight_map:\n",
      "    taxi_30min: 1.8533727603439532\n",
      "    uber_tlc_daily: 0.81831781667583\n",
      "    uber_tlc_hourly: 19.62843562209561\n",
      "    wiki-rolling_nips: 2.6428881749181605\n",
      "    london_smart_meters_with_missing: 22.826031474496975\n",
      "    wind_farms_with_missing: 373.88633157039555\n",
      "    wind_power: 33681.12009385995\n",
      "    solar_power: 33681.46158822353\n",
      "    oikolab_weather: 455.585353816998\n",
      "    elecdemand: 79.77308333123923\n",
      "    covid_mobility: 1.8691250613645671\n",
      "    kaggle_web_traffic_weekly: 0.5190714326347758\n",
      "    extended_web_traffic_with_missing: 0.8685860194482625\n",
      "    m5: 4.1324924151926306\n",
      "    m4_yearly: 0.16833058491201394\n",
      "    m1_yearly: 0.1347077137324278\n",
      "    m1_quarterly: 0.2266050813921266\n",
      "    monash_m3_yearly: 0.1293195916556026\n",
      "    monash_m3_quarterly: 0.22286873773806326\n",
      "    tourism_yearly: 0.12168826995444919\n",
      "    m4_hourly: 3.887866586922478\n",
      "    m4_daily: 10.733773494070244\n",
      "    m4_weekly: 4.653607425374844\n",
      "    m4_monthly: 0.984870788006772\n",
      "    m4_quarterly: 0.42008730340497724\n",
      "    m1_monthly: 0.33128827595098465\n",
      "    monash_m3_monthly: 0.4523221982081677\n",
      "    monash_m3_other: 0.312264539505484\n",
      "    nn5_daily_with_missing: 3.3466447630400022\n",
      "    nn5_weekly: 0.4780921090057146\n",
      "    tourism_monthly: 1.2502301479739342\n",
      "    tourism_quarterly: 0.41723626722818336\n",
      "    cif_2016_6: 0.19214749523848723\n",
      "    cif_2016_12: 0.45540569982315443\n",
      "    traffic_hourly: 79.11741415317427\n",
      "    traffic_weekly: 0.4371127853766533\n",
      "    australian_electricity_demand: 1050.513157095711\n",
      "    rideshare_with_missing: 1.6983653015155384\n",
      "    saugeenday: 107.96230472985238\n",
      "    sunspot_with_missing: 336.4584600273169\n",
      "    temperature_rain_with_missing: 3.16451443579973\n",
      "    vehicle_trips_with_missing: 0.44995601817900693\n",
      "    weather: 41.86036336851273\n",
      "    car_parts_with_missing: 0.17757706905926543\n",
      "    fred_md: 3.260132857600873\n",
      "    pedestrian_counts: 215.9873892315944\n",
      "    hospital: 0.3278345890324901\n",
      "    covid_deaths: 0.8286929889432386\n",
      "    kdd_cup_2018_with_missing: 48.85484134596089\n",
      "    bitcoin_with_missing: 20.721877981761974\n",
      "    us_births: 33.124953266824505\n",
      "  sample_time_series:\n",
      "    _target_: uni2ts.data.dataset.SampleTimeSeriesType\n",
      "    _args_: [\"proportional\"]\n",
      "- _target_: uni2ts.data.builder.lotsa_v1.LargeSTDatasetBuilder\n",
      "  datasets: ${cls_getattr:${._target_},dataset_list}\n",
      "  weight_map:\n",
      "    largest_2017: 0.5952788308847627\n",
      "    largest_2018: 0.5952788308847627\n",
      "    largest_2019: 0.5952788308847627\n",
      "    largest_2020: 0.5952788308847627\n",
      "    largest_2021: 0.5952788308847627\n",
      "  sample_time_series:\n",
      "    _target_: uni2ts.data.dataset.SampleTimeSeriesType\n",
      "    _args_: [\"proportional\"]\n",
      "- _target_: uni2ts.data.builder.lotsa_v1.LibCityDatasetBuilder\n",
      "  datasets: ${cls_getattr:${._target_},dataset_list}\n",
      "  weight_map:\n",
      "    PEMS03: 119.33179040782636\n",
      "    PEMS04: 77.36896301166765\n",
      "    PEMS07: 128.5111589007361\n",
      "    PEMS08: 81.30297808005753\n",
      "    PEMS_BAY: 237.2976033613507\n",
      "    LOS_LOOP: 156.04926437946526\n",
      "    LOOP_SEATTLE: 390.0919310811867\n",
      "    SZ_TAXI: 13.550496346676255\n",
      "    BEIJING_SUBWAY_30MIN: 4.097932362906126\n",
      "    HZMETRO: 8.30969618033742\n",
      "    SHMETRO: 30.579681943641713\n",
      "    ROTTERDAM: 105.37150082485951\n",
      "    Q-TRAFFIC: 2.7908145153544632\n",
      "  sample_time_series:\n",
      "    _target_: uni2ts.data.dataset.SampleTimeSeriesType\n",
      "    _args_: [\"proportional\"]\n",
      "- _target_: uni2ts.data.builder.lotsa_v1.OthersLOTSADatasetBuilder\n",
      "  datasets: ${cls_getattr:${._target_},dataset_list}\n",
      "  weight_map:\n",
      "    kdd2022: 160.63891464638144\n",
      "    godaddy: 0.18668358542127902\n",
      "    favorita_sales: 1.1266067036768894\n",
      "    favorita_transactions: 7.117248454489305\n",
      "    restaurant: 1.628828212731436\n",
      "    hierarchical_sales: 8.186758209450236\n",
      "    china_air_quality: 59.79911707828927\n",
      "    beijing_air_quality: 159.65544485882262\n",
      "    residential_load_power: 464.94351933292734\n",
      "    residential_pv_power: 540.7712177649069\n",
      "    cdc_fluview_ilinet: 3.8795581005450384\n",
      "    cdc_fluview_who_nrevss: 2.5695143464708674\n",
      "    project_tycho: 4.986530738299161\n",
      "  sample_time_series:\n",
      "    _target_: uni2ts.data.dataset.SampleTimeSeriesType\n",
      "    _args_: [\"proportional\"]\n",
      "- _target_: uni2ts.data.builder.lotsa_v1.ProEnFoDatasetBuilder\n",
      "  datasets: ${cls_getattr:${._target_},dataset_list}\n",
      "  weight_map:\n",
      "    gfc12_load: 179.46211794620223\n",
      "    gfc14_load: 79.77308333123923\n",
      "    gfc17_load: 79.8823615275834\n",
      "    spain: 159.65544485882262\n",
      "    pdb: 79.77308333123923\n",
      "    elf: 99.22460228050032\n",
      "    bull: 79.8823615275834\n",
      "    cockatoo: 79.8823615275834\n",
      "    hog: 79.8823615275834\n",
      "    covid19_energy: 145.3035750722892\n",
      "  sample_time_series:\n",
      "    _target_: uni2ts.data.dataset.SampleTimeSeriesType\n",
      "    _args_: [\"proportional\"]\n",
      "- _target_: uni2ts.data.builder.lotsa_v1.SubseasonalDatasetBuilder\n",
      "  datasets: ${cls_getattr:${._target_},dataset_list}\n",
      "  weight_map:\n",
      "    subseasonal: 74.99216224118207\n",
      "    subseasonal_precip: 51.556542383540055\n",
      "  sample_time_series:\n",
      "    _target_: uni2ts.data.dataset.SampleTimeSeriesType\n",
      "    _args_: [\"proportional\"]\n"
     ]
    }
   ],
   "source": [
    "for builder_cls in [\n",
    "    Buildings900KDatasetBuilder,\n",
    "    BuildingsBenchDatasetBuilder,\n",
    "    CloudOpsTSFDatasetBuilder,\n",
    "    CMIP6DatasetBuilder,\n",
    "    ERA5DatasetBuilder,\n",
    "    GluonTSDatasetBuilder,\n",
    "    LargeSTDatasetBuilder,\n",
    "    LibCityDatasetBuilder,\n",
    "    OthersLOTSADatasetBuilder,\n",
    "    ProEnFoDatasetBuilder,\n",
    "    SubseasonalDatasetBuilder,\n",
    "]:\n",
    "    print(f\"- _target_: uni2ts.data.builder.lotsa_v1.{builder_cls.__name__}\")\n",
    "    print(\"  datasets: ${cls_getattr:${._target_},dataset_list}\")\n",
    "    print(\"  weight_map:\")\n",
    "    for dataset in builder_cls.dataset_list:\n",
    "        print(f\"    {dataset}: {reweights[dataset]}\")\n",
    "    print(\"  sample_time_series:\")\n",
    "    print(\"    _target_: uni2ts.data.dataset.SampleTimeSeriesType\")\n",
    "    print('    _args_: [\"proportional\"]')"
   ]
  }
 ],
 "metadata": {
  "kernelspec": {
   "display_name": "visiontspp",
   "language": "python",
   "name": "python3"
  },
  "language_info": {
   "codemirror_mode": {
    "name": "ipython",
    "version": 3
   },
   "file_extension": ".py",
   "mimetype": "text/x-python",
   "name": "python",
   "nbconvert_exporter": "python",
   "pygments_lexer": "ipython3",
   "version": "3.10.18"
  }
 },
 "nbformat": 4,
 "nbformat_minor": 5
}
